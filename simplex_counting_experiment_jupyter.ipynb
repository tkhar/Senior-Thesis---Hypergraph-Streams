{
 "metadata": {
  "language_info": {
   "codemirror_mode": {
    "name": "ipython",
    "version": 3
   },
   "file_extension": ".py",
   "mimetype": "text/x-python",
   "name": "python",
   "nbconvert_exporter": "python",
   "pygments_lexer": "ipython3",
   "version": "3.9.5"
  },
  "orig_nbformat": 2,
  "kernelspec": {
   "name": "python395jvsc74a57bd0346c8574d43a19b23ac94d151fb655666fab768544aad2ceacaae2c2642aeb1e",
   "display_name": "Python 3.9.5 64-bit"
  },
  "metadata": {
   "interpreter": {
    "hash": "346c8574d43a19b23ac94d151fb655666fab768544aad2ceacaae2c2642aeb1e"
   }
  }
 },
 "nbformat": 4,
 "nbformat_minor": 2,
 "cells": [
  {
   "cell_type": "code",
   "execution_count": 3,
   "metadata": {},
   "outputs": [
    {
     "output_type": "stream",
     "name": "stdout",
     "text": [
      "['a', 'd', 'h', 'b', 'c', 'e', 'i', 'f', 'g']\n[0, 0, 0, 1, 1, 1, 1, 2, 2]\n"
     ]
    }
   ],
   "source": [
    "X = [\"a\", \"b\", \"c\", \"d\", \"e\", \"f\", \"g\", \"h\", \"i\"]\n",
    "Y = [ 0,   1,   1,    0,   1,   2,   2,   0,   1]\n",
    "\n",
    "Z = [x for _,x in sorted(zip(Y,X))]\n",
    "print(Z)  # [\"a\", \"d\", \"h\", \"b\", \"c\", \"e\", \"i\", \"f\", \"g\"]\n",
    "Y.sort()\n",
    "print(Y)"
   ]
  },
  {
   "cell_type": "code",
   "execution_count": 4,
   "metadata": {},
   "outputs": [
    {
     "output_type": "stream",
     "name": "stdout",
     "text": [
      "[None, None, None]\n"
     ]
    }
   ],
   "source": [
    "a = [1,2,3]\n",
    "b = ['a']\n",
    "c = [copy.deepcopy(b.append(a[i])) for i in range(len(a))]\n",
    "print(c)"
   ]
  },
  {
   "cell_type": "code",
   "execution_count": null,
   "metadata": {},
   "outputs": [],
   "source": []
  }
 ]
}